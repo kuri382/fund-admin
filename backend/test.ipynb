{
 "cells": [
  {
   "cell_type": "code",
   "execution_count": 25,
   "metadata": {},
   "outputs": [],
   "source": [
    "import os\n",
    "OPENAI_API_KEY=''"
   ]
  },
  {
   "cell_type": "code",
   "execution_count": 26,
   "metadata": {},
   "outputs": [],
   "source": [
    "import pdfplumber\n",
    "\n",
    "def extract_text_from_pdf(pdf_path):\n",
    "    with pdfplumber.open(pdf_path) as pdf:\n",
    "        text = \"\"\n",
    "        for page in pdf.pages:\n",
    "            text += page.extract_text()\n",
    "    return text\n",
    "\n",
    "pdf_path = \"data/ir/ir_0.pdf\"\n",
    "pdf_text = extract_text_from_pdf(pdf_path)\n",
    "\n",
    "#print(pdf_text)\n"
   ]
  },
  {
   "cell_type": "code",
   "execution_count": 27,
   "metadata": {},
   "outputs": [],
   "source": [
    "import openai\n",
    "from openai import OpenAI\n",
    "\n",
    "client = OpenAI(\n",
    "  organization='',\n",
    "  project='',\n",
    "  api_key=OPENAI_API_KEY,\n",
    ")"
   ]
  },
  {
   "cell_type": "code",
   "execution_count": 32,
   "metadata": {},
   "outputs": [
    {
     "name": "stdout",
     "output_type": "stream",
     "text": [
      "### SOLIZE株式会社 - エグゼクティブサマリー（デューデリジェンス用）\n",
      "\n",
      "**会社概要**\n",
      "- **所在地**：東京都千代田区三番町6-3 三番町UFビル3F\n",
      "- **設立**：1990年\n",
      "- **代表者**：宮藤 康聡\n",
      "- **従業員数**：1,969名（2023年12月末時点）\n",
      "- **証券コード**：5871（東証スタンダード）\n",
      "\n",
      "**ビジョン・ミッション**\n",
      "- **ビジョン**：進化を感動に\n",
      "- **ミッション**：知恵と技術をエンジニアリングし、価値創造を革新。「本質的に美しいものづくり」を実現。\n",
      "\n",
      "**事業内容**\n",
      "SOLIZE株式会社は、デジタルものづくりを革新し続ける企業であり、以下の主要サービスを提供しています：\n",
      "1. **エンジニアリングサービス**：自動車完成車メーカーや部品メーカー向けの設計・解析等の支援。\n",
      "2. **マニュファクチュアリングサービス**：3Dプリンターによる試作部品や量産部品の供給、及び装置販売。\n",
      "3. **コンサルティングサービス**：変革コンサルティング支援、AI搭載のSaaSの提供。\n",
      "\n",
      "**2024年12月期 第2四半期の業績**\n",
      "- **売上高**：10,747百万円（前年同期比+13.6%）\n",
      "- **営業利益**：88百万円（前年同期比-50.1%）\n",
      "- **経常利益**：60百万円（前年同期比-67.8%）\n",
      "- **営業利益率**：0.8%\n",
      "\n",
      "自動車業界からの需要は高く、設計開発の受託やエンジニア派遣サービスが拡大中ですが、販管費の増加が利益を圧迫しています。\n",
      "\n",
      "**市場環境**\n",
      "自動車関連企業を主要顧客としており、トヨタ、ホンダ、日産などの大手製造業が顧客基盤を構成。新規顧客の開発も進めており、国内外での業務拡大が見込まれています。\n",
      "\n",
      "**今後の戦略**\n",
      "- **採用強化**：経験者ブランディングの向上と新卒採用の強化。\n",
      "- **事業多角化**：ソフトウェア事業の分社化を通じた迅速な経営判断、高度な技術追求。\n",
      "- **コスト管理**：生産効率を高めるためのリソースの最適化。\n",
      "\n",
      "**財務概況**\n",
      "資産合計は14,693百万円、流動資産が12,502百万円に達し、財務基盤は堅固。配当については安定した還元を目指し、株主資本配当率（DOE）の目安を前年度末の連結純資産の2.5%に設定。2024年度の年間配当予想は47円。\n",
      "\n",
      "**結論**\n",
      "SOLIZEは、デジタルものづくりにおいて革新を続ける企業として、自動車を中心に高い成長が見込まれています。採用強化と事業の多角化を通じて、今後のさらなる成長に向けた基盤を築いています。高い評価を受けるエンジニアリングサービスとマニュファクチュアリングサービスの提供を続け、お客様のニーズに応えながら競争力を強化している点が大きな強みです。=================\n",
      "SOLIZE株式会社の主なサービスは以下の通りです。\n",
      "\n",
      "1. **エンジニアリングサービス**:\n",
      "   - 高度な技術を持つエンジニアが企業に派遣され、設計や解析を行うサービスです。また、受託開発にも対応しており、特に自動車メーカーや部品メーカー向けに設計開発支援を提供しています。\n",
      "\n",
      "2. **マニュファクチュアリングサービス**:\n",
      "   - 3Dプリンティング技術を活用した部品の試作や量産を行うサービスです。試作部品、量産部品の供給に加え、3Dプリンターの装置販売や保守サービスを提供しています。\n",
      "\n",
      "3. **コンサルティングサービス**:\n",
      "   - 企業の組織変革やデジタル化の支援を行うコンサルティングサービスです。特に、AIを搭載したSaaSを用いた経営支援や、組織横断的な変革活動の支援を行っています。\n",
      "\n",
      "4. **デジタルリスクサービス**:\n",
      "   - サイバーセキュリティやデジタルフォレンジックに関するサービスで、企業の情報セキュリティを強化し、インシデント発生後の対応を支援します。\n",
      "\n",
      "5. **ソフトウェア開発及びシミュレーション**:\n",
      "   - CAD/CAEソフトウェアの開発や導入支援、シミュレーションサービスを提供し、製品開発の効率化を目指します。\n",
      "\n",
      "これらのサービスは、自動車業界を中心に、製造業全般や建設業など、多様な業種のクライアントに向けられています。SOLIZEは、デジタルものづくりを通じて企業の価値創造を革新することを目指しています。"
     ]
    }
   ],
   "source": [
    "from typing import Generator\n",
    "\n",
    "def create_chat_completion_stream(client: openai.ChatCompletion, model: str, messages: list[dict[str, str]]) -> Generator[dict[str, any], None, None]:\n",
    "    \"\"\"\n",
    "    \"\"\"\n",
    "    stream = client.chat.completions.create(\n",
    "        model=model,\n",
    "        messages=messages,\n",
    "        stream=True,\n",
    "    )\n",
    "\n",
    "    return stream\n",
    "\n",
    "message = [{\"role\": \"user\", \"content\": f\"次の文章から読み取れる会社概要について、デューデリジェンス向けのエグゼクティブサマリーとしてまとめてください。{pdf_text}\"}]\n",
    "stream_abstract = create_chat_completion_stream(client, 'gpt-4o-mini', message)\n",
    "\n",
    "full_response = []\n",
    "for chunk in stream_abstract:\n",
    "    if chunk.choices[0].delta.content is not None:\n",
    "        full_response.append(chunk.choices[0].delta.content)\n",
    "        print(chunk.choices[0].delta.content, end=\"\")\n",
    "final_text = ''.join(full_response)\n",
    "\n",
    "\n",
    "message = [{\"role\": \"user\", \"content\": f\"次の文章から読み取れる会社の主なサービスを説明してください{pdf_text}\"}]\n",
    "stream_service = create_chat_completion_stream(client, 'gpt-4o-mini', message)\n",
    "\n",
    "for chunk in stream_service:\n",
    "    if chunk.choices[0].delta.content is not None:\n",
    "        print(chunk.choices[0].delta.content, end=\"\")"
   ]
  }
 ],
 "metadata": {
  "kernelspec": {
   "display_name": "ma backend(.venv)",
   "language": "python",
   "name": "mabackend"
  },
  "language_info": {
   "codemirror_mode": {
    "name": "ipython",
    "version": 3
   },
   "file_extension": ".py",
   "mimetype": "text/x-python",
   "name": "python",
   "nbconvert_exporter": "python",
   "pygments_lexer": "ipython3",
   "version": "3.11.4"
  },
  "orig_nbformat": 4
 },
 "nbformat": 4,
 "nbformat_minor": 2
}
